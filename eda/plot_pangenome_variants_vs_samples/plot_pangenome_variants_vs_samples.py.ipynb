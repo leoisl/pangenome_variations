{
 "cells": [
  {
   "cell_type": "code",
   "execution_count": null,
   "metadata": {},
   "outputs": [],
   "source": [
    "import pandas as pd\n",
    "import plotly.express as px"
   ]
  },
  {
   "cell_type": "code",
   "execution_count": null,
   "metadata": {},
   "outputs": [],
   "source": [
    "id_and_number_of_samples_df = pd.read_csv(snakemake.input.id_and_number_of_samples_csv)\n",
    "id_and_number_of_samples_df"
   ]
  },
  {
   "cell_type": "code",
   "execution_count": null,
   "metadata": {},
   "outputs": [],
   "source": [
    "# sanity check\n",
    "assert len(id_and_number_of_samples_df[\"PVID\"].unique()) == \\\n",
    "       len(id_and_number_of_samples_df[\"PVID\"])"
   ]
  },
  {
   "cell_type": "code",
   "execution_count": null,
   "metadata": {},
   "outputs": [],
   "source": [
    "fig = px.histogram(id_and_number_of_samples_df, x=\"NUMBER_OF_SAMPLES\")\n",
    "fig.update_layout(\n",
    "    xaxis = dict(\n",
    "        tickmode = 'linear',\n",
    "        tick0 = 2,\n",
    "        dtick = 1\n",
    "    ),\n",
    "    yaxis_title=\"Number of pangenome variations\",\n",
    "    xaxis_title=\"Number of samples\",\n",
    "    title=\"Pangenome variations per number of samples\"\n",
    ")\n",
    "fig.write_image(snakemake.output.plot)\n",
    "fig"
   ]
  },
  {
   "cell_type": "code",
   "execution_count": null,
   "metadata": {},
   "outputs": [],
   "source": [
    "id_and_number_of_samples_df.to_csv(snakemake.output.csv_data, index=False)"
   ]
  }
 ],
 "metadata": {
  "kernelspec": {
   "display_name": "Python 3",
   "language": "python",
   "name": "python3"
  },
  "language_info": {
   "codemirror_mode": {
    "name": "ipython",
    "version": 3
   },
   "file_extension": ".py",
   "mimetype": "text/x-python",
   "name": "python",
   "nbconvert_exporter": "python",
   "pygments_lexer": "ipython3",
   "version": "3.7.3"
  }
 },
 "nbformat": 4,
 "nbformat_minor": 4
}